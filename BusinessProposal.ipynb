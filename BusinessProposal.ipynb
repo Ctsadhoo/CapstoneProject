{
 "cells": [
  {
   "cell_type": "markdown",
   "metadata": {},
   "source": [
    "# A description of the problem and a discussion of the background"
   ]
  },
  {
   "cell_type": "markdown",
   "metadata": {},
   "source": [
    "The purpose of this assignment is to see if Toronto is a good city to open up a new restaurant in and to identify what neighborhood/borough would be ideal for the new restaurant.\n",
    "\n",
    "The assignment will create an analysis of Toronto's burough's and compare it to that of New York City's to see what area is best for a new restaurant. \n",
    "\n",
    "To develop the code I will be using the following libraries:\n",
    "\n",
    "* Pandas - Dataframe manipulation\n",
    "* Folium - Visualize the data on a map and to represent the cluster points\n",
    "* JSON - Manage the JSON files being utilized\n",
    "* XML - To utilize the data in a text format\n",
    "* Geocoder - Retrieve the location data and coordinates of the neighborhoods\n",
    "* Requests - To scrape the Wikipedia link(s)\n",
    "* Matplotlib - Plotting module used for this project"
   ]
  },
  {
   "cell_type": "markdown",
   "metadata": {},
   "source": [
    "# Implementing Foursquare API"
   ]
  },
  {
   "cell_type": "markdown",
   "metadata": {},
   "source": [
    "Using the Foursquare API provides access to New York City's data and Toronto's data. This will provide venue details, coordinates and the ability to do location searches between the two cities.\n",
    "\n",
    "Using a reduced parameter will improve the speed of the code and limit the pulls due to the request limitations of the dataset through the Foursquare API.\n",
    "\n",
    "Using a cluster for both cities will make it easier to introduce the k-means clsutering algorithm. "
   ]
  },
  {
   "cell_type": "code",
   "execution_count": null,
   "metadata": {},
   "outputs": [],
   "source": []
  }
 ],
 "metadata": {
  "kernelspec": {
   "display_name": "Python",
   "language": "python",
   "name": "conda-env-python-py"
  },
  "language_info": {
   "codemirror_mode": {
    "name": "ipython",
    "version": 3
   },
   "file_extension": ".py",
   "mimetype": "text/x-python",
   "name": "python",
   "nbconvert_exporter": "python",
   "pygments_lexer": "ipython3",
   "version": "3.6.10"
  }
 },
 "nbformat": 4,
 "nbformat_minor": 4
}
