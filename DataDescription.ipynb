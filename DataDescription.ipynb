{
 "cells": [
  {
   "cell_type": "markdown",
   "metadata": {},
   "source": [
    "# A description of the data and how it will be used to solve the problem"
   ]
  },
  {
   "cell_type": "markdown",
   "metadata": {},
   "source": [
    "The data will be coming from the Wikipedia link used in the last assignment: https://en.wikipedia.org/wiki/List_of_postal_codes_of_Canada:_M\n",
    "\n",
    "# Applying the Foursquare API Data:\n",
    "\n",
    "Identifying different venues within the area will identify an oversaturation of certain restaurants. The Foursquare API was viable in the last assignment to analyze the postal codes, venues and neighborhoods of the Toronto area. We will scrape the dataset in order to complete the capstone assignment based on different criteria. I will use a radius of 300 meters as opposed to 500 that was intially used in my previous code. \n",
    "\n",
    "The data will identify the latitude and longitude of the neighborhoods, list the venues within that neighborhood, the most common venues, and what service they provide (food, transportation, shopping, etc)\n",
    "\n",
    "I will then introduce a cluster with the K Means in order to compare and contrast the two cities' data sets."
   ]
  },
  {
   "cell_type": "code",
   "execution_count": null,
   "metadata": {},
   "outputs": [],
   "source": []
  }
 ],
 "metadata": {
  "kernelspec": {
   "display_name": "Python",
   "language": "python",
   "name": "conda-env-python-py"
  },
  "language_info": {
   "codemirror_mode": {
    "name": "ipython",
    "version": 3
   },
   "file_extension": ".py",
   "mimetype": "text/x-python",
   "name": "python",
   "nbconvert_exporter": "python",
   "pygments_lexer": "ipython3",
   "version": "3.6.10"
  }
 },
 "nbformat": 4,
 "nbformat_minor": 4
}
